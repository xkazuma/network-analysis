{
  "nbformat": 4,
  "nbformat_minor": 0,
  "metadata": {
    "colab": {
      "name": "network-analysis.ipynb",
      "provenance": [],
      "authorship_tag": "ABX9TyOF0jflPz/ECLvx/CzXyc+w"
    },
    "kernelspec": {
      "name": "python3",
      "display_name": "Python 3"
    },
    "language_info": {
      "name": "python"
    }
  },
  "cells": [
    {
      "cell_type": "code",
      "execution_count": null,
      "metadata": {
        "id": "FgbSqQQzPje1"
      },
      "outputs": [],
      "source": [
        ""
      ]
    }
  ]
}